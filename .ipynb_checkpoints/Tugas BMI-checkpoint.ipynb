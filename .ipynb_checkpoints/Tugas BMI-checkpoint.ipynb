{
 "cells": [
  {
   "cell_type": "code",
   "execution_count": 9,
   "metadata": {},
   "outputs": [
    {
     "name": "stdout",
     "output_type": "stream",
     "text": [
      "Berat badan (kg) = 65\n",
      "Tinggi badan (cm) = 160\n",
      "BMI Anda = 25.390624999999996\n",
      "Kategori BMI = Overweight\n"
     ]
    }
   ],
   "source": [
    "# Kode untuk menghitung BMI\n",
    "\n",
    "weight = 65 #(kg)\n",
    "height = 160 #(cm)\n",
    "print('Berat badan (kg) =', weight)\n",
    "print('Tinggi badan (cm) =', height)\n",
    "\n",
    "BMI = weight/((height/100)**2)\n",
    "print('BMI Anda =', BMI)\n",
    "\n",
    "if BMI < 15:\n",
    "    print('Kategori BMI = Very severely underweight')\n",
    "elif BMI >=15 and BMI <16:\n",
    "    print('Kategori BMI = Severely underweight')\n",
    "elif BMI >=16 and BMI <18.5:\n",
    "    print('Kategori BMI = Underweight')\n",
    "elif BMI >=18.5 and BMI <25:\n",
    "    print ('Kategori BMI = Normal(healthy weight)')\n",
    "elif BMI >=25 and BMI <30:\n",
    "    print('Kategori BMI = Overweight')\n",
    "elif BMI >=30 and BMI <35:\n",
    "    print('Kategori BMI = Moderately obese')\n",
    "elif BMI >=35 and BMI <40:\n",
    "    print('Kategori BMI = Severely obese')\n",
    "else:\n",
    "    print('Kategori BMI = Very severely obese')"
   ]
  },
  {
   "cell_type": "code",
   "execution_count": null,
   "metadata": {},
   "outputs": [],
   "source": []
  }
 ],
 "metadata": {
  "kernelspec": {
   "display_name": "Python 3",
   "language": "python",
   "name": "python3"
  },
  "language_info": {
   "codemirror_mode": {
    "name": "ipython",
    "version": 3
   },
   "file_extension": ".py",
   "mimetype": "text/x-python",
   "name": "python",
   "nbconvert_exporter": "python",
   "pygments_lexer": "ipython3",
   "version": "3.7.0"
  }
 },
 "nbformat": 4,
 "nbformat_minor": 2
}
