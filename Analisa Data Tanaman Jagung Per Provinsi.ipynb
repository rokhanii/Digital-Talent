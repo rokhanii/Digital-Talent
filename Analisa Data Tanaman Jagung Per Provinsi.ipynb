{
 "cells": [
  {
   "cell_type": "markdown",
   "metadata": {},
   "source": [
    "# 1. Deskripsi Data\n",
    "Data set yang digunakan merupakan data tanaman pangan jagung per provinsi periode tahun 1993 hingga 2013. Penjelasan mengenai variabel yang terdapat pada data ini adalah sebagai berikut :\n",
    "\n",
    "1. tahun = Tahun\n",
    "2. nama_provinsi = Provinsi\n",
    "3. luas_panen =Luas Panen dari Tanaman Pangan (dalam Hektar)\n",
    "4. produktivitas = Produktivitas Tanaman Pangan (dalam Kuintal/Hektar)\n",
    "5. produksi = Total Produksi Tanaman Pangan (dalam Ton)\n",
    "\n",
    "Luas panen adalah luasan tanaman yang dipungut hasilnya setelah tanaman tersebut cukup umur.\n",
    "Produksi merupakan produksi tanaman jagung dalam bentuk pipilan kering."
   ]
  },
  {
   "cell_type": "code",
   "execution_count": 32,
   "metadata": {},
   "outputs": [],
   "source": [
    "import pandas as pd\n",
    "\n",
    "data_jagung = pd.read_csv('processedtanamanpanganjagungperprovinsi19932013.csv',\n",
    "                              delimiter = ',', encoding = \"ISO-8859-1\")"
   ]
  },
  {
   "cell_type": "markdown",
   "metadata": {},
   "source": [
    "### Contoh data Asli"
   ]
  },
  {
   "cell_type": "code",
   "execution_count": 46,
   "metadata": {},
   "outputs": [
    {
     "name": "stdout",
     "output_type": "stream",
     "text": [
      "     tahun                    nama_provinsi  luas_panen  produktivitas  \\\n",
      "0     1993   Prov. Nanggroe Aceh Darussalam       17941          21.70   \n",
      "1     1993             Prov. Sumatera Utara      122039          22.23   \n",
      "2     1993             Prov. Sumatera Barat       12713          22.00   \n",
      "3     1993                       Prov. Riau       10223          21.23   \n",
      "4     1993                      Prov. Jambi        6619          15.42   \n",
      "5     1993           Prov. Sumatera Selatan       22853          21.02   \n",
      "6     1993                   Prov. Bengkulu       20139          18.10   \n",
      "7     1993                    Prov. Lampung      252827          22.91   \n",
      "8     1993  Prov. Kepulauan Bangka Belitung           0           0.00   \n",
      "9     1993             Prov. Kepulauan Riau           0           0.00   \n",
      "10    1993                Prov. DKI Jakarta          40          13.00   \n",
      "11    1993                 Prov. Jawa Barat      112988          24.27   \n",
      "12    1993                Prov. Jawa Tengah      489673          25.33   \n",
      "13    1993             Prov. D I Yogyakarta       37726          20.86   \n",
      "14    1993                 Prov. Jawa Timur     1012051          23.35   \n",
      "15    1993                     Prov. Banten           0           0.00   \n",
      "16    1993                       Prov. Bali       51038          20.72   \n",
      "17    1993        Prov. Nusa Tenggara Barat       26295          19.64   \n",
      "18    1993        Prov. Nusa Tenggara Timur      206058          17.78   \n",
      "19    1993           Prov. Kalimantan Barat       18331          13.29   \n",
      "20    1993          Prov. Kalimantan Tengah        2145          13.20   \n",
      "21    1993         Prov. Kalimantan Selatan       15137          12.35   \n",
      "22    1993           Prov. Kalimantan Timur        7676          15.72   \n",
      "23    1993             Prov. Sulawesi Utara       62350          19.90   \n",
      "24    1993            Prov. Sulawesi Tengah       12814          11.43   \n",
      "25    1993           Prov. Sulawesi Selatan      296481          18.00   \n",
      "26    1993          Prov. Sulawesi Tenggara       43402          18.84   \n",
      "27    1993                  Prov. Gorontalo           0           0.00   \n",
      "28    1993             Prov. Sulawesi Barat           0           0.00   \n",
      "29    1993                     Prov. Maluku       18814          13.32   \n",
      "..     ...                              ...         ...            ...   \n",
      "663   2013                       Prov. Riau       11748          23.88   \n",
      "664   2013                      Prov. Jambi        6504          39.50   \n",
      "665   2013           Prov. Sumatera Selatan       32558          51.43   \n",
      "666   2013                   Prov. Bengkulu       18257          51.48   \n",
      "667   2013                    Prov. Lampung      346284          50.83   \n",
      "668   2013  Prov. Kepulauan Bangka Belitung         237          33.46   \n",
      "669   2013             Prov. Kepulauan Riau         339          23.30   \n",
      "670   2013                Prov. DKI Jakarta           0           0.00   \n",
      "671   2013                 Prov. Jawa Barat      152923          72.06   \n",
      "672   2013                Prov. Jawa Tengah      532061          55.09   \n",
      "673   2013             Prov. D I Yogyakarta       70772          40.92   \n",
      "674   2013                 Prov. Jawa Timur     1199544          48.03   \n",
      "675   2013                     Prov. Banten        3583          33.60   \n",
      "676   2013                       Prov. Bali       18223          31.59   \n",
      "677   2013        Prov. Nusa Tenggara Barat      110273          57.47   \n",
      "678   2013        Prov. Nusa Tenggara Timur      270394          26.17   \n",
      "679   2013           Prov. Kalimantan Barat       42597          37.43   \n",
      "680   2013          Prov. Kalimantan Tengah        2083          30.17   \n",
      "681   2013         Prov. Kalimantan Selatan       20629          51.89   \n",
      "682   2013           Prov. Kalimantan Timur        2300          25.33   \n",
      "683   2013             Prov. Sulawesi Utara      122237          36.65   \n",
      "684   2013            Prov. Sulawesi Tengah       34077          40.76   \n",
      "685   2013           Prov. Sulawesi Selatan      274046          45.62   \n",
      "686   2013          Prov. Sulawesi Tenggara       27133          24.91   \n",
      "687   2013                  Prov. Gorontalo      140423          47.65   \n",
      "688   2013             Prov. Sulawesi Barat       26261          48.13   \n",
      "689   2013                     Prov. Maluku        3203          37.28   \n",
      "690   2013               Prov. Maluku Utara       10395          28.30   \n",
      "691   2013                Prov. Papua Barat        1213          17.09   \n",
      "692   2013                      Prov. Papua        3005          23.41   \n",
      "\n",
      "     produksi  \n",
      "0       38924  \n",
      "1      271298  \n",
      "2       27969  \n",
      "3       21699  \n",
      "4       10206  \n",
      "5       48036  \n",
      "6       36449  \n",
      "7      579141  \n",
      "8           0  \n",
      "9           0  \n",
      "10         52  \n",
      "11     274181  \n",
      "12    1240472  \n",
      "13      78701  \n",
      "14    2363252  \n",
      "15          0  \n",
      "16     105759  \n",
      "17      51650  \n",
      "18     366347  \n",
      "19      24355  \n",
      "20       2831  \n",
      "21      18690  \n",
      "22      12070  \n",
      "23     124053  \n",
      "24      14647  \n",
      "25     533577  \n",
      "26      81769  \n",
      "27          0  \n",
      "28          0  \n",
      "29      25069  \n",
      "..        ...  \n",
      "663     28052  \n",
      "664     25690  \n",
      "665    167457  \n",
      "666     93988  \n",
      "667   1760126  \n",
      "668       793  \n",
      "669       790  \n",
      "670         0  \n",
      "671   1101997  \n",
      "672   2930911  \n",
      "673    289580  \n",
      "674   5760959  \n",
      "675     12038  \n",
      "676     57573  \n",
      "677    633773  \n",
      "678    707642  \n",
      "679    159423  \n",
      "680      6284  \n",
      "681    107043  \n",
      "682      5826  \n",
      "683    448002  \n",
      "684    138890  \n",
      "685   1250202  \n",
      "686     67578  \n",
      "687    669094  \n",
      "688    126407  \n",
      "689     11940  \n",
      "690     29421  \n",
      "691      2073  \n",
      "692      7034  \n",
      "\n",
      "[693 rows x 5 columns]\n"
     ]
    }
   ],
   "source": [
    "print(data_jagung)"
   ]
  },
  {
   "cell_type": "markdown",
   "metadata": {},
   "source": [
    "### Contoh Data Sampel"
   ]
  },
  {
   "cell_type": "code",
   "execution_count": 47,
   "metadata": {},
   "outputs": [
    {
     "data": {
      "text/html": [
       "<div>\n",
       "<style scoped>\n",
       "    .dataframe tbody tr th:only-of-type {\n",
       "        vertical-align: middle;\n",
       "    }\n",
       "\n",
       "    .dataframe tbody tr th {\n",
       "        vertical-align: top;\n",
       "    }\n",
       "\n",
       "    .dataframe thead th {\n",
       "        text-align: right;\n",
       "    }\n",
       "</style>\n",
       "<table border=\"1\" class=\"dataframe\">\n",
       "  <thead>\n",
       "    <tr style=\"text-align: right;\">\n",
       "      <th></th>\n",
       "      <th>tahun</th>\n",
       "      <th>nama_provinsi</th>\n",
       "      <th>luas_panen</th>\n",
       "      <th>produktivitas</th>\n",
       "      <th>produksi</th>\n",
       "    </tr>\n",
       "  </thead>\n",
       "  <tbody>\n",
       "    <tr>\n",
       "      <th>87</th>\n",
       "      <td>1995</td>\n",
       "      <td>Prov. Kalimantan Selatan</td>\n",
       "      <td>13964</td>\n",
       "      <td>12.64</td>\n",
       "      <td>17645</td>\n",
       "    </tr>\n",
       "    <tr>\n",
       "      <th>236</th>\n",
       "      <td>2000</td>\n",
       "      <td>Prov. Sumatera Selatan</td>\n",
       "      <td>41280</td>\n",
       "      <td>22.90</td>\n",
       "      <td>94528</td>\n",
       "    </tr>\n",
       "    <tr>\n",
       "      <th>160</th>\n",
       "      <td>1997</td>\n",
       "      <td>Prov. Sulawesi Barat</td>\n",
       "      <td>0</td>\n",
       "      <td>0.00</td>\n",
       "      <td>0</td>\n",
       "    </tr>\n",
       "    <tr>\n",
       "      <th>516</th>\n",
       "      <td>2008</td>\n",
       "      <td>Prov. Kalimantan Selatan</td>\n",
       "      <td>20116</td>\n",
       "      <td>47.26</td>\n",
       "      <td>95064</td>\n",
       "    </tr>\n",
       "    <tr>\n",
       "      <th>392</th>\n",
       "      <td>2004</td>\n",
       "      <td>Prov. Maluku</td>\n",
       "      <td>5413</td>\n",
       "      <td>23.05</td>\n",
       "      <td>12477</td>\n",
       "    </tr>\n",
       "    <tr>\n",
       "      <th>550</th>\n",
       "      <td>2009</td>\n",
       "      <td>Prov. Kalimantan Timur</td>\n",
       "      <td>5141</td>\n",
       "      <td>24.35</td>\n",
       "      <td>12520</td>\n",
       "    </tr>\n",
       "    <tr>\n",
       "      <th>541</th>\n",
       "      <td>2009</td>\n",
       "      <td>Prov. D I Yogyakarta</td>\n",
       "      <td>74563</td>\n",
       "      <td>42.24</td>\n",
       "      <td>314937</td>\n",
       "    </tr>\n",
       "    <tr>\n",
       "      <th>543</th>\n",
       "      <td>2009</td>\n",
       "      <td>Prov. Banten</td>\n",
       "      <td>8425</td>\n",
       "      <td>32.15</td>\n",
       "      <td>27083</td>\n",
       "    </tr>\n",
       "    <tr>\n",
       "      <th>597</th>\n",
       "      <td>2011</td>\n",
       "      <td>Prov. Riau</td>\n",
       "      <td>14139</td>\n",
       "      <td>23.48</td>\n",
       "      <td>33197</td>\n",
       "    </tr>\n",
       "    <tr>\n",
       "      <th>313</th>\n",
       "      <td>2002</td>\n",
       "      <td>Prov. Bali</td>\n",
       "      <td>34395</td>\n",
       "      <td>28.66</td>\n",
       "      <td>98584</td>\n",
       "    </tr>\n",
       "    <tr>\n",
       "      <th>625</th>\n",
       "      <td>2011</td>\n",
       "      <td>Prov. Papua Barat</td>\n",
       "      <td>1278</td>\n",
       "      <td>16.63</td>\n",
       "      <td>2125</td>\n",
       "    </tr>\n",
       "    <tr>\n",
       "      <th>596</th>\n",
       "      <td>2011</td>\n",
       "      <td>Prov. Sumatera Barat</td>\n",
       "      <td>71116</td>\n",
       "      <td>66.35</td>\n",
       "      <td>471849</td>\n",
       "    </tr>\n",
       "    <tr>\n",
       "      <th>265</th>\n",
       "      <td>2001</td>\n",
       "      <td>Prov. Sumatera Utara</td>\n",
       "      <td>198709</td>\n",
       "      <td>31.91</td>\n",
       "      <td>634162</td>\n",
       "    </tr>\n",
       "    <tr>\n",
       "      <th>507</th>\n",
       "      <td>2008</td>\n",
       "      <td>Prov. Jawa Tengah</td>\n",
       "      <td>639354</td>\n",
       "      <td>41.92</td>\n",
       "      <td>2679914</td>\n",
       "    </tr>\n",
       "    <tr>\n",
       "      <th>577</th>\n",
       "      <td>2010</td>\n",
       "      <td>Prov. Bali</td>\n",
       "      <td>26706</td>\n",
       "      <td>24.85</td>\n",
       "      <td>66355</td>\n",
       "    </tr>\n",
       "    <tr>\n",
       "      <th>141</th>\n",
       "      <td>1997</td>\n",
       "      <td>Prov. Kepulauan Riau</td>\n",
       "      <td>0</td>\n",
       "      <td>0.00</td>\n",
       "      <td>0</td>\n",
       "    </tr>\n",
       "    <tr>\n",
       "      <th>147</th>\n",
       "      <td>1997</td>\n",
       "      <td>Prov. Banten</td>\n",
       "      <td>0</td>\n",
       "      <td>0.00</td>\n",
       "      <td>0</td>\n",
       "    </tr>\n",
       "    <tr>\n",
       "      <th>653</th>\n",
       "      <td>2012</td>\n",
       "      <td>Prov. Sulawesi Tenggara</td>\n",
       "      <td>30884</td>\n",
       "      <td>25.40</td>\n",
       "      <td>78447</td>\n",
       "    </tr>\n",
       "    <tr>\n",
       "      <th>72</th>\n",
       "      <td>1995</td>\n",
       "      <td>Prov. Bengkulu</td>\n",
       "      <td>28755</td>\n",
       "      <td>18.16</td>\n",
       "      <td>52232</td>\n",
       "    </tr>\n",
       "    <tr>\n",
       "      <th>275</th>\n",
       "      <td>2001</td>\n",
       "      <td>Prov. Jawa Barat</td>\n",
       "      <td>117670</td>\n",
       "      <td>30.68</td>\n",
       "      <td>361061</td>\n",
       "    </tr>\n",
       "    <tr>\n",
       "      <th>656</th>\n",
       "      <td>2012</td>\n",
       "      <td>Prov. Maluku</td>\n",
       "      <td>4768</td>\n",
       "      <td>38.34</td>\n",
       "      <td>18281</td>\n",
       "    </tr>\n",
       "    <tr>\n",
       "      <th>664</th>\n",
       "      <td>2013</td>\n",
       "      <td>Prov. Jambi</td>\n",
       "      <td>6504</td>\n",
       "      <td>39.50</td>\n",
       "      <td>25690</td>\n",
       "    </tr>\n",
       "    <tr>\n",
       "      <th>334</th>\n",
       "      <td>2003</td>\n",
       "      <td>Prov. Jambi</td>\n",
       "      <td>8966</td>\n",
       "      <td>30.20</td>\n",
       "      <td>27077</td>\n",
       "    </tr>\n",
       "    <tr>\n",
       "      <th>316</th>\n",
       "      <td>2002</td>\n",
       "      <td>Prov. Kalimantan Barat</td>\n",
       "      <td>20496</td>\n",
       "      <td>22.84</td>\n",
       "      <td>46813</td>\n",
       "    </tr>\n",
       "    <tr>\n",
       "      <th>492</th>\n",
       "      <td>2007</td>\n",
       "      <td>Prov. Maluku Utara</td>\n",
       "      <td>6568</td>\n",
       "      <td>16.43</td>\n",
       "      <td>10793</td>\n",
       "    </tr>\n",
       "    <tr>\n",
       "      <th>527</th>\n",
       "      <td>2008</td>\n",
       "      <td>Prov. Papua</td>\n",
       "      <td>4113</td>\n",
       "      <td>17.40</td>\n",
       "      <td>7155</td>\n",
       "    </tr>\n",
       "    <tr>\n",
       "      <th>458</th>\n",
       "      <td>2006</td>\n",
       "      <td>Prov. Maluku</td>\n",
       "      <td>6463</td>\n",
       "      <td>23.04</td>\n",
       "      <td>14888</td>\n",
       "    </tr>\n",
       "    <tr>\n",
       "      <th>469</th>\n",
       "      <td>2007</td>\n",
       "      <td>Prov. Lampung</td>\n",
       "      <td>369971</td>\n",
       "      <td>36.40</td>\n",
       "      <td>1346821</td>\n",
       "    </tr>\n",
       "    <tr>\n",
       "      <th>176</th>\n",
       "      <td>1998</td>\n",
       "      <td>Prov. Jawa Barat</td>\n",
       "      <td>158993</td>\n",
       "      <td>26.82</td>\n",
       "      <td>426430</td>\n",
       "    </tr>\n",
       "    <tr>\n",
       "      <th>445</th>\n",
       "      <td>2006</td>\n",
       "      <td>Prov. Bali</td>\n",
       "      <td>28131</td>\n",
       "      <td>27.76</td>\n",
       "      <td>78105</td>\n",
       "    </tr>\n",
       "    <tr>\n",
       "      <th>308</th>\n",
       "      <td>2002</td>\n",
       "      <td>Prov. Jawa Barat</td>\n",
       "      <td>126146</td>\n",
       "      <td>36.80</td>\n",
       "      <td>464264</td>\n",
       "    </tr>\n",
       "    <tr>\n",
       "      <th>348</th>\n",
       "      <td>2003</td>\n",
       "      <td>Prov. Nusa Tenggara Timur</td>\n",
       "      <td>257724</td>\n",
       "      <td>22.63</td>\n",
       "      <td>583355</td>\n",
       "    </tr>\n",
       "    <tr>\n",
       "      <th>239</th>\n",
       "      <td>2000</td>\n",
       "      <td>Prov. Kepulauan Bangka Belitung</td>\n",
       "      <td>0</td>\n",
       "      <td>0.00</td>\n",
       "      <td>0</td>\n",
       "    </tr>\n",
       "    <tr>\n",
       "      <th>573</th>\n",
       "      <td>2010</td>\n",
       "      <td>Prov. Jawa Tengah</td>\n",
       "      <td>631816</td>\n",
       "      <td>48.41</td>\n",
       "      <td>3058710</td>\n",
       "    </tr>\n",
       "    <tr>\n",
       "      <th>409</th>\n",
       "      <td>2005</td>\n",
       "      <td>Prov. D I Yogyakarta</td>\n",
       "      <td>72714</td>\n",
       "      <td>34.24</td>\n",
       "      <td>248960</td>\n",
       "    </tr>\n",
       "    <tr>\n",
       "      <th>534</th>\n",
       "      <td>2009</td>\n",
       "      <td>Prov. Bengkulu</td>\n",
       "      <td>28205</td>\n",
       "      <td>33.26</td>\n",
       "      <td>93798</td>\n",
       "    </tr>\n",
       "    <tr>\n",
       "      <th>379</th>\n",
       "      <td>2004</td>\n",
       "      <td>Prov. Bali</td>\n",
       "      <td>25782</td>\n",
       "      <td>26.54</td>\n",
       "      <td>68424</td>\n",
       "    </tr>\n",
       "    <tr>\n",
       "      <th>524</th>\n",
       "      <td>2008</td>\n",
       "      <td>Prov. Maluku</td>\n",
       "      <td>8045</td>\n",
       "      <td>23.52</td>\n",
       "      <td>18924</td>\n",
       "    </tr>\n",
       "    <tr>\n",
       "      <th>169</th>\n",
       "      <td>1998</td>\n",
       "      <td>Prov. Jambi</td>\n",
       "      <td>18345</td>\n",
       "      <td>16.53</td>\n",
       "      <td>30320</td>\n",
       "    </tr>\n",
       "    <tr>\n",
       "      <th>221</th>\n",
       "      <td>1999</td>\n",
       "      <td>Prov. Sulawesi Utara</td>\n",
       "      <td>94012</td>\n",
       "      <td>22.18</td>\n",
       "      <td>208538</td>\n",
       "    </tr>\n",
       "  </tbody>\n",
       "</table>\n",
       "</div>"
      ],
      "text/plain": [
       "     tahun                    nama_provinsi  luas_panen  produktivitas  \\\n",
       "87    1995         Prov. Kalimantan Selatan       13964          12.64   \n",
       "236   2000           Prov. Sumatera Selatan       41280          22.90   \n",
       "160   1997             Prov. Sulawesi Barat           0           0.00   \n",
       "516   2008         Prov. Kalimantan Selatan       20116          47.26   \n",
       "392   2004                     Prov. Maluku        5413          23.05   \n",
       "550   2009           Prov. Kalimantan Timur        5141          24.35   \n",
       "541   2009             Prov. D I Yogyakarta       74563          42.24   \n",
       "543   2009                     Prov. Banten        8425          32.15   \n",
       "597   2011                       Prov. Riau       14139          23.48   \n",
       "313   2002                       Prov. Bali       34395          28.66   \n",
       "625   2011                Prov. Papua Barat        1278          16.63   \n",
       "596   2011             Prov. Sumatera Barat       71116          66.35   \n",
       "265   2001             Prov. Sumatera Utara      198709          31.91   \n",
       "507   2008                Prov. Jawa Tengah      639354          41.92   \n",
       "577   2010                       Prov. Bali       26706          24.85   \n",
       "141   1997             Prov. Kepulauan Riau           0           0.00   \n",
       "147   1997                     Prov. Banten           0           0.00   \n",
       "653   2012          Prov. Sulawesi Tenggara       30884          25.40   \n",
       "72    1995                   Prov. Bengkulu       28755          18.16   \n",
       "275   2001                 Prov. Jawa Barat      117670          30.68   \n",
       "656   2012                     Prov. Maluku        4768          38.34   \n",
       "664   2013                      Prov. Jambi        6504          39.50   \n",
       "334   2003                      Prov. Jambi        8966          30.20   \n",
       "316   2002           Prov. Kalimantan Barat       20496          22.84   \n",
       "492   2007               Prov. Maluku Utara        6568          16.43   \n",
       "527   2008                      Prov. Papua        4113          17.40   \n",
       "458   2006                     Prov. Maluku        6463          23.04   \n",
       "469   2007                    Prov. Lampung      369971          36.40   \n",
       "176   1998                 Prov. Jawa Barat      158993          26.82   \n",
       "445   2006                       Prov. Bali       28131          27.76   \n",
       "308   2002                 Prov. Jawa Barat      126146          36.80   \n",
       "348   2003        Prov. Nusa Tenggara Timur      257724          22.63   \n",
       "239   2000  Prov. Kepulauan Bangka Belitung           0           0.00   \n",
       "573   2010                Prov. Jawa Tengah      631816          48.41   \n",
       "409   2005             Prov. D I Yogyakarta       72714          34.24   \n",
       "534   2009                   Prov. Bengkulu       28205          33.26   \n",
       "379   2004                       Prov. Bali       25782          26.54   \n",
       "524   2008                     Prov. Maluku        8045          23.52   \n",
       "169   1998                      Prov. Jambi       18345          16.53   \n",
       "221   1999             Prov. Sulawesi Utara       94012          22.18   \n",
       "\n",
       "     produksi  \n",
       "87      17645  \n",
       "236     94528  \n",
       "160         0  \n",
       "516     95064  \n",
       "392     12477  \n",
       "550     12520  \n",
       "541    314937  \n",
       "543     27083  \n",
       "597     33197  \n",
       "313     98584  \n",
       "625      2125  \n",
       "596    471849  \n",
       "265    634162  \n",
       "507   2679914  \n",
       "577     66355  \n",
       "141         0  \n",
       "147         0  \n",
       "653     78447  \n",
       "72      52232  \n",
       "275    361061  \n",
       "656     18281  \n",
       "664     25690  \n",
       "334     27077  \n",
       "316     46813  \n",
       "492     10793  \n",
       "527      7155  \n",
       "458     14888  \n",
       "469   1346821  \n",
       "176    426430  \n",
       "445     78105  \n",
       "308    464264  \n",
       "348    583355  \n",
       "239         0  \n",
       "573   3058710  \n",
       "409    248960  \n",
       "534     93798  \n",
       "379     68424  \n",
       "524     18924  \n",
       "169     30320  \n",
       "221    208538  "
      ]
     },
     "execution_count": 47,
     "metadata": {},
     "output_type": "execute_result"
    }
   ],
   "source": [
    "data_jagung.sample(40)"
   ]
  },
  {
   "cell_type": "code",
   "execution_count": 48,
   "metadata": {},
   "outputs": [
    {
     "data": {
      "text/plain": [
       "Index(['tahun', 'nama_provinsi', 'luas_panen', 'produktivitas', 'produksi'], dtype='object')"
      ]
     },
     "execution_count": 48,
     "metadata": {},
     "output_type": "execute_result"
    }
   ],
   "source": [
    "data_jagung.columns"
   ]
  },
  {
   "cell_type": "markdown",
   "metadata": {},
   "source": [
    "# 2. Statistik, Visualisasi dan Narasi Analisis"
   ]
  },
  {
   "cell_type": "markdown",
   "metadata": {},
   "source": [
    "## a. Luas panen"
   ]
  },
  {
   "cell_type": "code",
   "execution_count": 89,
   "metadata": {},
   "outputs": [
    {
     "data": {
      "text/plain": [
       "nama_provinsi\n",
       "Prov. Bali                           696095\n",
       "Prov. Banten                          97919\n",
       "Prov. Bengkulu                       559089\n",
       "Prov. D I Yogyakarta                1348296\n",
       "Prov. DKI Jakarta                       497\n",
       "Prov. Gorontalo                     1386931\n",
       "Prov. Jambi                          210801\n",
       "Prov. Jawa Barat                    2742472\n",
       "Prov. Jawa Tengah                  11814287\n",
       "Prov. Jawa Timur                   24711345\n",
       "Prov. Kalimantan Barat               644582\n",
       "Prov. Kalimantan Selatan             403961\n",
       "Prov. Kalimantan Tengah               79635\n",
       "Prov. Kalimantan Timur               122043\n",
       "Prov. Kepulauan Bangka Belitung        7576\n",
       "Prov. Kepulauan Riau                   3815\n",
       "Prov. Lampung                       7351407\n",
       "Prov. Maluku                         163792\n",
       "Prov. Maluku Utara                    87714\n",
       "Prov. Nanggroe Aceh Darussalam       609836\n",
       "Prov. Nusa Tenggara Barat           1021870\n",
       "Prov. Nusa Tenggara Timur           4967513\n",
       "Prov. Papua                           86795\n",
       "Prov. Papua Barat                     12438\n",
       "Prov. Riau                           361617\n",
       "Prov. Sulawesi Barat                 120677\n",
       "Prov. Sulawesi Selatan              5688856\n",
       "Prov. Sulawesi Tengah                566614\n",
       "Prov. Sulawesi Tenggara              751085\n",
       "Prov. Sulawesi Utara                1888838\n",
       "Prov. Sumatera Barat                 783090\n",
       "Prov. Sumatera Selatan               681308\n",
       "Prov. Sumatera Utara                4349848\n",
       "Name: luas_panen, dtype: int64"
      ]
     },
     "execution_count": 89,
     "metadata": {},
     "output_type": "execute_result"
    }
   ],
   "source": [
    "data_jagung.groupby('nama_provinsi').sum()['luas_panen']"
   ]
  },
  {
   "cell_type": "code",
   "execution_count": 88,
   "metadata": {},
   "outputs": [
    {
     "name": "stdout",
     "output_type": "stream",
     "text": [
      "jumlah luas panen: 74322642\n",
      "rata-rata luas panen 107247.67965367965\n",
      "luas panen terkecil 0\n",
      "luas panen terbesar: 1348462 \n",
      "\n"
     ]
    }
   ],
   "source": [
    "#Statistik\n",
    "print('jumlah luas panen:', data_jagung.luas_panen.sum())\n",
    "print('rata-rata luas panen', data_jagung.luas_panen.mean())\n",
    "print('luas panen terkecil', data_jagung.luas_panen.min())\n",
    "print('luas panen terbesar:', data_jagung.luas_panen.max(), '\\n')"
   ]
  },
  {
   "cell_type": "code",
   "execution_count": 93,
   "metadata": {},
   "outputs": [
    {
     "data": {
      "text/plain": [
       "Text(0,0.5,'Luas Panen')"
      ]
     },
     "execution_count": 93,
     "metadata": {},
     "output_type": "execute_result"
    },
    {
     "data": {
      "image/png": "[encoded data removed]",
      "text/plain": [
       "<Figure size 1440x288 with 1 Axes>"
      ]
     },
     "metadata": {
      "needs_background": "light"
     },
     "output_type": "display_data"
    }
   ],
   "source": [
    "# Visualisasi luas panen\n",
    "ax = data_jagung.groupby('nama_provinsi').sum()['luas_panen']\n",
    "ax = ax.plot(kind='bar',figsize=(20,4), title=\"Jumlah Luas Panen per Provinsi\", legend=True, fontsize=12)\n",
    "ax.set_xlabel(\"Provinsi\", fontsize=12)\n",
    "ax.set_ylabel(\"Luas Panen\", fontsize=12)"
   ]
  },
  {
   "cell_type": "markdown",
   "metadata": {},
   "source": [
    "Berdasarkan Jumlah Luas Panen Tanaman Jagung per Provinsi tahun 1993-2013 dapat dilihat bahwa provinsi dengan luas panenan terbesar adalah Provinsi Jawa Timur. Luas panen tersebut adalah luasan tanaman yang dipungut hasilnya setelah tanaman tersebut cukup umur yang artinya bahwa sebagian besar lahan pertanian di Jawa Timur digunakan untuk penanaman Tanaman jagung sehingga mempunyai luas panen terbanyak.Luas panen paling sedikit terdapat pada provinsi DKI Jakarta, yang penggunaan lahan di provinsi tersebut yang digunakan untuk penanaman Tanaman Jagung sangat sedikit. Hal ini bisa disebabkan karena setiap tahun di provinsi DKI Jakarta penggunaan lahan untuk penanaman, baik itu tanaman buah, sayur, maupun tanaman pangan setiap tahun selalu mengalami penurunan karena lahan di provinsi tersebut sering dialihfungsikan menjadi pemukiman penduduk sehingga jumlah luas lahan yang digunakan untuk penanaman tanaman pangan menjadi berkurang.Oleh karena itu sebaiknya dalam memanfaatkan lahan bisa dipertimbangkan mengenai penggunaannya terutama untuk tanaman pangan (jagung)."
   ]
  },
  {
   "cell_type": "markdown",
   "metadata": {},
   "source": [
    "## b. Produksi"
   ]
  },
  {
   "cell_type": "code",
   "execution_count": 91,
   "metadata": {},
   "outputs": [
    {
     "data": {
      "text/plain": [
       "nama_provinsi\n",
       "Prov. Bali                          1773154\n",
       "Prov. Banten                         286009\n",
       "Prov. Bengkulu                      1413211\n",
       "Prov. D I Yogyakarta                4319006\n",
       "Prov. DKI Jakarta                       891\n",
       "Prov. Gorontalo                     5957741\n",
       "Prov. Jambi                          531710\n",
       "Prov. Jawa Barat                   11800894\n",
       "Prov. Jawa Tengah                  42863026\n",
       "Prov. Jawa Timur                   86295812\n",
       "Prov. Kalimantan Barat              1944421\n",
       "Prov. Kalimantan Selatan            1208540\n",
       "Prov. Kalimantan Tengah              148666\n",
       "Prov. Kalimantan Timur               217903\n",
       "Prov. Kepulauan Bangka Belitung       22010\n",
       "Prov. Kepulauan Riau                   8084\n",
       "Prov. Lampung                      27144959\n",
       "Prov. Maluku                         297594\n",
       "Prov. Maluku Utara                   171649\n",
       "Prov. Nanggroe Aceh Darussalam      1895464\n",
       "Prov. Nusa Tenggara Barat           3558893\n",
       "Prov. Nusa Tenggara Timur          11149877\n",
       "Prov. Papua                          139275\n",
       "Prov. Papua Barat                     17532\n",
       "Prov. Riau                           763251\n",
       "Prov. Sulawesi Barat                 550633\n",
       "Prov. Sulawesi Selatan             18741989\n",
       "Prov. Sulawesi Tengah               1635284\n",
       "Prov. Sulawesi Tenggara             1649140\n",
       "Prov. Sulawesi Utara                5425358\n",
       "Prov. Sumatera Barat                3922785\n",
       "Prov. Sumatera Selatan              1903197\n",
       "Prov. Sumatera Utara               15250111\n",
       "Name: produksi, dtype: int64"
      ]
     },
     "execution_count": 91,
     "metadata": {},
     "output_type": "execute_result"
    }
   ],
   "source": [
    "data_jagung.groupby('nama_provinsi').sum()['produksi']"
   ]
  },
  {
   "cell_type": "code",
   "execution_count": 87,
   "metadata": {},
   "outputs": [
    {
     "name": "stdout",
     "output_type": "stream",
     "text": [
      "jumlah produksi: 253008069\n",
      "rata-rata produksi 365091.00865800865\n",
      "produksi terkecil 0\n",
      "produksi terbesar: 6295301 \n",
      "\n"
     ]
    }
   ],
   "source": [
    "#Statistik\n",
    "print('jumlah produksi:', data_jagung.produksi.sum())\n",
    "print('rata-rata produksi', data_jagung.produksi.mean())\n",
    "print('produksi terkecil', data_jagung.produksi.min())\n",
    "print('produksi terbesar:', data_jagung.produksi.max(), '\\n')"
   ]
  },
  {
   "cell_type": "code",
   "execution_count": 104,
   "metadata": {},
   "outputs": [
    {
     "data": {
      "text/plain": [
       "Text(0,0.5,'Jumlah Produksi')"
      ]
     },
     "execution_count": 104,
     "metadata": {},
     "output_type": "execute_result"
    },
    {
     "data": {
      "image/png": "[encoded data removed]",
      "text/plain": [
       "<Figure size 1440x288 with 1 Axes>"
      ]
     },
     "metadata": {
      "needs_background": "light"
     },
     "output_type": "display_data"
    }
   ],
   "source": [
    "# Visualisasi Jumlah Produksi\n",
    "ax = data_jagung.groupby('nama_provinsi').sum()['produksi']\n",
    "ax = ax.plot(kind='bar',figsize=(20,4), title=\"Jumlah Produksi per Provinsi\", legend=True, fontsize=12)\n",
    "ax.set_xlabel(\"Provinsi\", fontsize=12)\n",
    "ax.set_ylabel(\"Jumlah Produksi\", fontsize=12)"
   ]
  },
  {
   "cell_type": "markdown",
   "metadata": {},
   "source": [
    "Berdasarkan Jumlah Produksi Tanaman Jagung per Provinsi tahun 1993-2013 dapat dilihat bahwa provinsi dengan jumlah produksi Tanaman jagung terbesar dalam bentuk  pipilan kering adalah Provinsi Jawa Timur, hal ini terlihat juga pada grafik sebelumnya bahwa provinsi Jawa Timur memiliki luas panen terbesar sehingga jumlah produksi yang diperoleh juga akan semakin besar. Jumlah panen paling sedikit juga terdapat pada provinsi DKI Jakarta karena provinsi tersebut juga memiliki luasan panen paing sedikit."
   ]
  },
  {
   "cell_type": "markdown",
   "metadata": {},
   "source": [
    "## c. Produktivitas"
   ]
  },
  {
   "cell_type": "code",
   "execution_count": 85,
   "metadata": {},
   "outputs": [
    {
     "name": "stdout",
     "output_type": "stream",
     "text": [
      "jumlah produktivitas: 17368.95\n",
      "rata-rata produktivitas 25.06341991341991\n",
      "produktivitas terkecil 0.0\n",
      "produktivitas terbesar: 72.06 \n",
      "\n"
     ]
    }
   ],
   "source": [
    "#Statistik\n",
    "print('jumlah produktivitas:', data_jagung.produktivitas.sum())\n",
    "print('rata-rata produktivitas', data_jagung.produktivitas.mean())\n",
    "print('produktivitas terkecil', data_jagung.produktivitas.min())\n",
    "print('produktivitas terbesar:', data_jagung.produktivitas.max(), '\\n')"
   ]
  },
  {
   "cell_type": "code",
   "execution_count": 81,
   "metadata": {},
   "outputs": [
    {
     "data": {
      "text/plain": [
       "nama_provinsi\n",
       "Prov. Bali                         548.92\n",
       "Prov. Banten                       387.85\n",
       "Prov. Bengkulu                     546.02\n",
       "Prov. D I Yogyakarta               658.84\n",
       "Prov. DKI Jakarta                  362.07\n",
       "Prov. Gorontalo                    520.78\n",
       "Prov. Jambi                        564.68\n",
       "Prov. Jawa Barat                   892.75\n",
       "Prov. Jawa Tengah                  759.29\n",
       "Prov. Jawa Timur                   729.42\n",
       "Prov. Kalimantan Barat             562.28\n",
       "Prov. Kalimantan Selatan           608.42\n",
       "Prov. Kalimantan Tengah            429.85\n",
       "Prov. Kalimantan Timur             432.63\n",
       "Prov. Kepulauan Bangka Belitung    382.10\n",
       "Prov. Kepulauan Riau               190.91\n",
       "Prov. Lampung                      733.47\n",
       "Prov. Maluku                       424.84\n",
       "Prov. Maluku Utara                 204.41\n",
       "Prov. Nanggroe Aceh Darussalam     612.66\n",
       "Prov. Nusa Tenggara Barat          590.11\n",
       "Prov. Nusa Tenggara Timur          467.97\n",
       "Prov. Papua                        338.88\n",
       "Prov. Papua Barat                  147.81\n",
       "Prov. Riau                         464.71\n",
       "Prov. Sulawesi Barat               386.47\n",
       "Prov. Sulawesi Selatan             691.92\n",
       "Prov. Sulawesi Tengah              543.92\n",
       "Prov. Sulawesi Tenggara            465.64\n",
       "Prov. Sulawesi Utara               567.41\n",
       "Prov. Sumatera Barat               816.02\n",
       "Prov. Sumatera Selatan             596.44\n",
       "Prov. Sumatera Utara               739.46\n",
       "Name: produktivitas, dtype: float64"
      ]
     },
     "execution_count": 81,
     "metadata": {},
     "output_type": "execute_result"
    }
   ],
   "source": [
    "data_jagung.groupby('nama_provinsi').sum()['produktivitas']"
   ]
  },
  {
   "cell_type": "code",
   "execution_count": 84,
   "metadata": {
    "scrolled": true
   },
   "outputs": [
    {
     "data": {
      "text/plain": [
       "Text(0,0.5,'Produktivitas')"
      ]
     },
     "execution_count": 84,
     "metadata": {},
     "output_type": "execute_result"
    },
    {
     "data": {
      "image/png": "[encoded data removed]",
      "text/plain": [
       "<Figure size 720x288 with 1 Axes>"
      ]
     },
     "metadata": {
      "needs_background": "light"
     },
     "output_type": "display_data"
    }
   ],
   "source": [
    "# Visualisasi produktivitas\n",
    "ax = data_jagung.groupby('nama_provinsi').sum()['produktivitas']\n",
    "ax = ax.plot(kind='bar',figsize=(10,4), title=\"Jumlah Produktivitas Lahan per Provinsi\", legend=True, fontsize=12)\n",
    "ax.set_xlabel(\"Provinsi\", fontsize=12)\n",
    "ax.set_ylabel(\"Produktivitas\", fontsize=12)"
   ]
  },
  {
   "cell_type": "markdown",
   "metadata": {},
   "source": [
    "Produktivitas Tanaman Jagung adalah Jumlah Produksi Tanaman Jagung dibagi Luas Panen Tanaman Jagung. Berdasarkan Jumlah Produktivitas Tanaman Jagung per Provinsi tahun 1993-2013 dapat dilihat bahwa provinsi dengan luas panenan terbesar adalah Provinsi Provinsi Jawa Barat. Hal ini menunjukkan bahwa penggunaan lahan untuk penanaman jagung di provinsi ini dimanfaatkan secara baik dari segi perawatan maupun penggunaan varietas jagung yang baik sehingga hasil produktivitas tanaman yang diperoleh juga semakin optimal, berbeda dengan Provinsi Jawa timur yang di 2 grafik sebelumnya menunjukkan luas panen dan luas produksi tertinggi, namun untuk produktivitasnya berada di bawah Provinsi Jawa Barat yang menunjukkan bahwa penggunaan lahan di provinsi Jawa Timur tidak dimanfaatkan dengan baik.\n",
    "Berdasarkan grafik di atas, produktivitas lahan terendah terdapat pada provinsi Papua Barat, berbeda dengan 2 grafik sebelumnya menunjukkan bahwa provinsi DKI Jakarta memiliki luas panen dan jumlah produksi terendah, namun memiliki produktivitas yang lebih tinggi dibanding provinsi Papua Barat. Hal ini mungkin disebabkan karena penggunaan lahan untuk tanaman jagung di provisi Papua Barat tidak digunkan dan diolah dengan optimal sehingga hasil produktivitas yang diperoleh menjadi sedikit. Oleh karena itu seharusnya pemerintah bisa melihat potensi produktivitas Jagung sebagai Tanaman Pangan dengan melihat luas lahan dan kondisi penanaman serta perawatannya sehingga bisa diperoleh produktivitas yang lebih tinggi dengan penggunaan secara optimal."
   ]
  }
 ],
 "metadata": {
  "kernelspec": {
   "display_name": "Python 3",
   "language": "python",
   "name": "python3"
  },
  "language_info": {
   "codemirror_mode": {
    "name": "ipython",
    "version": 3
   },
   "file_extension": ".py",
   "mimetype": "text/x-python",
   "name": "python",
   "nbconvert_exporter": "python",
   "pygments_lexer": "ipython3",
   "version": "3.7.0"
  }
 },
 "nbformat": 4,
 "nbformat_minor": 2
}
